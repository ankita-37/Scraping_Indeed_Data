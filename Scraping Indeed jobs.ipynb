{
 "cells": [
  {
   "cell_type": "markdown",
   "metadata": {},
   "source": [
    "## Importing necessary libraries"
   ]
  },
  {
   "cell_type": "code",
   "execution_count": 1,
   "metadata": {},
   "outputs": [],
   "source": [
    "#Importing csv\n",
    "import csv\n",
    "\n",
    "#Importing Webdriver\n",
    "from selenium import webdriver\n",
    "\n",
    "#Importing Pandas\n",
    "import pandas as pd\n",
    "\n",
    "#Importing time\n",
    "import time"
   ]
  },
  {
   "cell_type": "markdown",
   "metadata": {},
   "source": [
    "## Scraping the Data for Job-Title - Data scientist"
   ]
  },
  {
   "cell_type": "code",
   "execution_count": 4,
   "metadata": {},
   "outputs": [
    {
     "name": "stdout",
     "output_type": "stream",
     "text": [
      "Data Science Intern\n",
      "SCM DIGITALIZATION DATA SCIENTIST\n",
      "Data Scientist\n",
      "Data Scientist\n",
      "Data Scientist - Messaging\n",
      "Data Scientist\n",
      "Data Scientist\n",
      "Data Scientist\n",
      "Product Data Scientist, Communication\n",
      "Data Scientist Intern\n",
      "Sr. Data Scientist\n",
      "Senior Data Scientist\n",
      "Data Scientist\n",
      "Data Scientist\n",
      "Data Engineer\n"
     ]
    }
   ],
   "source": [
    "search_query='https://www.indeed.com/q-data-scientist-jobs.html'\n",
    "\n",
    "#Creating object\n",
    "driver=webdriver.Chrome()\n",
    "\n",
    "#Getting the required query\n",
    "driver.get(search_query)\n",
    "\n",
    "#20s sleep\n",
    "time.sleep(20)\n",
    "\n",
    "#Loacting the Jobs on the page\n",
    "job_list=driver.find_elements_by_xpath(\"//div[@data-tn-component='organicJob']\")\n",
    "\n",
    "#Locating Job_title for each job\n",
    "for each_job in job_list:\n",
    "    job_title=each_job.find_elements_by_xpath(\".//h2[@class='title']/a\")[0]\n",
    "    print(job_title.text)"
   ]
  },
  {
   "cell_type": "code",
   "execution_count": 14,
   "metadata": {},
   "outputs": [
    {
     "name": "stdout",
     "output_type": "stream",
     "text": [
      "['Data Scientist - Entry Level', 'Numerdox', 'Sacramento, CA', 'You will be performing thorough testing and validation of models, and support various aspects of the business with data analytics.', '30+ days ago']\n",
      "['Data Science Intern', 'Noodle', 'Remote', 'Help build or improve a prospect scoring machine learning pipeline using AWS Sagemaker.\\nCan effectively manage their schedules and projects.', '30+ days ago']\n",
      "['Data Scientist', 'Innovar Group', 'Westminster, CO', 'Job Type: Database Analysis/Development.', '19 days ago']\n",
      "['Data Scientist, Operations', 'Drizly', 'Remote', \"You've had a proven track record of applying machine learning, linear and mixed-integer programming to operations opportunities (e.g., forecasting,…\", '4 days ago']\n",
      "['Data Scientist', 'Blue Owl', 'San Francisco, CA', 'We’re using rich customer insights, advanced technology and data science to build our cloud-native InsurTech solution.', '30+ days ago']\n",
      "['Data Scientist', 'Intel', 'Hillsboro, OR 97124', 'Additionally, can use use predictive modeling, statistics, machine learning, data mining, and other data analysis techniques to collect, explore, visualize, and…', '5 days ago']\n",
      "['Data Scientist - Messaging', 'Spotify', 'New York, NY', 'Have a technical competence to perform sophisticated analytics: coding skills (Python), experience with analytics & visualization tools (SQL, Tableau) and…', 'Today']\n",
      "['Data Scientist - Analytics', 'Acorn Analytics', 'Remote', \"Acorn provides valuable and actionable insights into organizations' raw data.\\nComfortable in python, proficient with pandas, matplotlib, performing exploratory…\", '30+ days ago']\n",
      "['Vitria Data Scientist', 'Vitria Technology', 'Menlo Park, CA 94025 (Lorelei Manor area)', 'Proven data science or data analysis experience.\\nRecommend and test predictive models and machine-learning algorithms.\\nExperience analysis time-series data.', '30+ days ago']\n",
      "['Data Scientist - Entry Level', 'Lawrence Livermore National Laboratory', 'Livermore, CA 94550', 'Collaborate with scientists and researchers in one or more of the following areas: data intensive applications, text processing, graph analysis, machine…', '5 days ago']\n",
      "['Principal Data Scientist - Bioinformatics', 'Nutrien Ltd.', 'Champaign, IL', 'Communicate insights to a diverse audience including agronomists, microbiologists, machine learning experts, and business partners.', 'Today']\n",
      "['Data Scientist', 'Valiance Solutions', 'New York, NY 10019 (Midtown area)', 'Using data science, machine learning and cloud technologies.\\nValiance is an AI/ML company working with early stage/growth startups to create IP lead decision…', 'Today']\n",
      "['Data Scientist, Algorithms', 'Bowery Farming', 'New York, NY', 'You’ll work with our team of data scientists and analysts as well as agricultural scientists and supply chain managers who bring the domain expertise to our…', '5 days ago']\n",
      "['DATA SCIENTIST', 'Bangura Solutions', 'Remote', 'Ability to mentor data scientists in best practice.\\nExperience cleaning data for machine learning projects.\\nExperience with supporting design of data models /…', '12 days ago']\n",
      "['Early career data scientist / analyst / statistical genetici...', 'Data Tecnica', 'Glen Echo, MD', 'This position includes general analysis workflows with standard packages (python3, dash, PLINK, HAIL, etc) with responsibilities ranging from data science and…', '30+ days ago']\n"
     ]
    }
   ],
   "source": [
    "#Defining search query\n",
    "search_query='https://www.indeed.com/q-data-scientist-jobs.html'\n",
    "\n",
    "#Creating webdriver instance\n",
    "driver=webdriver.Chrome()\n",
    "\n",
    "#Creating an empty list\n",
    "job_details=[]\n",
    "\n",
    "#get the query\n",
    "driver.get(search_query)\n",
    "\n",
    "time.sleep(20)\n",
    "\n",
    "job_list=driver.find_elements_by_xpath(\"//div[@data-tn-component='organicJob']\")\n",
    "\n",
    "#Getting the job info from the job list\n",
    "\n",
    "for each_job in job_list:\n",
    "    \n",
    "    #Getting job info\n",
    "    job_info=[]\n",
    "    job_title=each_job.find_elements_by_xpath(\".//h2[@class='title']/a\")[0]\n",
    "    job_company=each_job.find_elements_by_xpath(\".//span[@class='company']\")[0]\n",
    "    job_location=each_job.find_elements_by_xpath(\".//span[@class='location accessible-contrast-color-location']\")[0]\n",
    "    job_summary=each_job.find_elements_by_xpath(\".//div[@class='summary']\")[0]\n",
    "    job_publish_date=each_job.find_elements_by_xpath(\".//span[@class='date date-a11y']\")[0]\n",
    "    \n",
    "    #Saving job info\n",
    "    job_info=[job_title.text,job_company.text,job_location.text,job_summary.text,job_publish_date.text]\n",
    "    print(job_info) \n",
    "    \n",
    "    #Saving into job_details\n",
    "    job_details.append(job_info)\n",
    "    \n",
    "#Exit\n",
    "driver.quit()\n",
    "\n",
    "#Storing data in the dataframe\n",
    "job_details_df=pd.DataFrame(job_details,columns=['Title','Company','Location','Summary','Publish_date'])\n",
    "\n",
    "job_details_df.to_csv('job_details.csv',index=False)\n"
   ]
  },
  {
   "cell_type": "code",
   "execution_count": 16,
   "metadata": {},
   "outputs": [],
   "source": [
    "df=pd.read_csv('job_details.csv') #Storing the data as .csv file"
   ]
  },
  {
   "cell_type": "code",
   "execution_count": 17,
   "metadata": {},
   "outputs": [
    {
     "data": {
      "text/html": [
       "<div>\n",
       "<style scoped>\n",
       "    .dataframe tbody tr th:only-of-type {\n",
       "        vertical-align: middle;\n",
       "    }\n",
       "\n",
       "    .dataframe tbody tr th {\n",
       "        vertical-align: top;\n",
       "    }\n",
       "\n",
       "    .dataframe thead th {\n",
       "        text-align: right;\n",
       "    }\n",
       "</style>\n",
       "<table border=\"1\" class=\"dataframe\">\n",
       "  <thead>\n",
       "    <tr style=\"text-align: right;\">\n",
       "      <th></th>\n",
       "      <th>Title</th>\n",
       "      <th>Company</th>\n",
       "      <th>Location</th>\n",
       "      <th>Summary</th>\n",
       "      <th>Publish_date</th>\n",
       "    </tr>\n",
       "  </thead>\n",
       "  <tbody>\n",
       "    <tr>\n",
       "      <th>0</th>\n",
       "      <td>Data Scientist - Entry Level</td>\n",
       "      <td>Numerdox</td>\n",
       "      <td>Sacramento, CA</td>\n",
       "      <td>You will be performing thorough testing and va...</td>\n",
       "      <td>30+ days ago</td>\n",
       "    </tr>\n",
       "    <tr>\n",
       "      <th>1</th>\n",
       "      <td>Data Science Intern</td>\n",
       "      <td>Noodle</td>\n",
       "      <td>Remote</td>\n",
       "      <td>Help build or improve a prospect scoring machi...</td>\n",
       "      <td>30+ days ago</td>\n",
       "    </tr>\n",
       "    <tr>\n",
       "      <th>2</th>\n",
       "      <td>Data Scientist</td>\n",
       "      <td>Innovar Group</td>\n",
       "      <td>Westminster, CO</td>\n",
       "      <td>Job Type: Database Analysis/Development.</td>\n",
       "      <td>19 days ago</td>\n",
       "    </tr>\n",
       "    <tr>\n",
       "      <th>3</th>\n",
       "      <td>Data Scientist, Operations</td>\n",
       "      <td>Drizly</td>\n",
       "      <td>Remote</td>\n",
       "      <td>You've had a proven track record of applying m...</td>\n",
       "      <td>4 days ago</td>\n",
       "    </tr>\n",
       "    <tr>\n",
       "      <th>4</th>\n",
       "      <td>Data Scientist</td>\n",
       "      <td>Blue Owl</td>\n",
       "      <td>San Francisco, CA</td>\n",
       "      <td>We’re using rich customer insights, advanced t...</td>\n",
       "      <td>30+ days ago</td>\n",
       "    </tr>\n",
       "  </tbody>\n",
       "</table>\n",
       "</div>"
      ],
      "text/plain": [
       "                          Title        Company           Location  \\\n",
       "0  Data Scientist - Entry Level       Numerdox     Sacramento, CA   \n",
       "1           Data Science Intern         Noodle             Remote   \n",
       "2                Data Scientist  Innovar Group    Westminster, CO   \n",
       "3    Data Scientist, Operations         Drizly             Remote   \n",
       "4                Data Scientist       Blue Owl  San Francisco, CA   \n",
       "\n",
       "                                             Summary  Publish_date  \n",
       "0  You will be performing thorough testing and va...  30+ days ago  \n",
       "1  Help build or improve a prospect scoring machi...  30+ days ago  \n",
       "2           Job Type: Database Analysis/Development.   19 days ago  \n",
       "3  You've had a proven track record of applying m...    4 days ago  \n",
       "4  We’re using rich customer insights, advanced t...  30+ days ago  "
      ]
     },
     "execution_count": 17,
     "metadata": {},
     "output_type": "execute_result"
    }
   ],
   "source": [
    "df.head()"
   ]
  },
  {
   "cell_type": "code",
   "execution_count": null,
   "metadata": {},
   "outputs": [],
   "source": []
  }
 ],
 "metadata": {
  "kernelspec": {
   "display_name": "Python 3",
   "language": "python",
   "name": "python3"
  },
  "language_info": {
   "codemirror_mode": {
    "name": "ipython",
    "version": 3
   },
   "file_extension": ".py",
   "mimetype": "text/x-python",
   "name": "python",
   "nbconvert_exporter": "python",
   "pygments_lexer": "ipython3",
   "version": "3.8.5"
  }
 },
 "nbformat": 4,
 "nbformat_minor": 4
}
